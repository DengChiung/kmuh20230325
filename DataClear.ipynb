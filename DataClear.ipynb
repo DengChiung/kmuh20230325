{
  "nbformat": 4,
  "nbformat_minor": 0,
  "metadata": {
    "colab": {
      "provenance": [],
      "authorship_tag": "ABX9TyMimZceta7hcNyxzKxlET3X",
      "include_colab_link": true
    },
    "kernelspec": {
      "name": "python3",
      "display_name": "Python 3"
    },
    "language_info": {
      "name": "python"
    }
  },
  "cells": [
    {
      "cell_type": "markdown",
      "metadata": {
        "id": "view-in-github",
        "colab_type": "text"
      },
      "source": [
        "<a href=\"https://colab.research.google.com/github/DengChiung/kmuh20230325/blob/main/DataClear.ipynb\" target=\"_parent\"><img src=\"https://colab.research.google.com/assets/colab-badge.svg\" alt=\"Open In Colab\"/></a>"
      ]
    },
    {
      "cell_type": "code",
      "execution_count": null,
      "metadata": {
        "id": "d55SmV9NL0Qc"
      },
      "outputs": [],
      "source": [
        "import pandas as pd\n",
        "from sklearn.datasets import load_iris\n",
        "iris = load_iris()\n",
        "df = pd.DataFrame(iris[\"data\"], columns=iris[\"feature_names\"])\n",
        "df[\"ans\"] = iris[\"target\"]\n",
        "#df"
      ]
    },
    {
      "cell_type": "code",
      "source": [
        "train_df = pd.read_csv(\"./Data/train.csv\", encoding=\"utf-8\")\n",
        "test_df = pd.read_csv(\"./Data/test.csv\", encoding=\"utf-8\")\n",
        "train_df.info()"
      ],
      "metadata": {
        "id": "b4tZAb_LM6ZV",
        "colab": {
          "base_uri": "https://localhost:8080/"
        },
        "outputId": "eed7ca59-d7e5-4474-a5da-12aaf8a90008"
      },
      "execution_count": null,
      "outputs": [
        {
          "output_type": "stream",
          "name": "stdout",
          "text": [
            "<class 'pandas.core.frame.DataFrame'>\n",
            "RangeIndex: 891 entries, 0 to 890\n",
            "Data columns (total 12 columns):\n",
            " #   Column       Non-Null Count  Dtype  \n",
            "---  ------       --------------  -----  \n",
            " 0   PassengerId  891 non-null    int64  \n",
            " 1   Survived     891 non-null    int64  \n",
            " 2   Pclass       891 non-null    int64  \n",
            " 3   Name         891 non-null    object \n",
            " 4   Sex          891 non-null    object \n",
            " 5   Age          714 non-null    float64\n",
            " 6   SibSp        891 non-null    int64  \n",
            " 7   Parch        891 non-null    int64  \n",
            " 8   Ticket       891 non-null    object \n",
            " 9   Fare         891 non-null    float64\n",
            " 10  Cabin        204 non-null    object \n",
            " 11  Embarked     889 non-null    object \n",
            "dtypes: float64(2), int64(5), object(5)\n",
            "memory usage: 83.7+ KB\n"
          ]
        }
      ]
    },
    {
      "cell_type": "code",
      "source": [
        "# \"Embarked\"最常出現的類別\n",
        "most = train_df[\"Embarked\"].value_counts().idxmax()\n",
        "#train_df[\"Embarked\"] = traixn_df[\"Embarked\"].fillna(most)\n",
        "print(most)"
      ],
      "metadata": {
        "id": "g7GfxvKbU5ii",
        "outputId": "8eb71266-8d31-4cf2-876d-4a0a84561b01",
        "colab": {
          "base_uri": "https://localhost:8080/"
        }
      },
      "execution_count": null,
      "outputs": [
        {
          "output_type": "stream",
          "name": "stdout",
          "text": [
            "S\n"
          ]
        }
      ]
    },
    {
      "cell_type": "code",
      "source": [
        "# 數值:取中位數 補值\n",
        "med = train_df.median().drop([\"Pclass\"])\n",
        "#train_df = train_df.fillna(med)\n",
        "#s = train_df.isna().sum()\n",
        "#s[s > 0].sort_values(ascending=False)"
      ],
      "metadata": {
        "id": "kkUK3CxgV2HM"
      },
      "execution_count": null,
      "outputs": []
    },
    {
      "cell_type": "code",
      "source": [
        "# #重複資料\n",
        "# duplicated_index = df['column_name'].duplicated()\n",
        "# df = df.drop(df[duplicated_index].index)\n",
        "# result = value_counts[duplicated_index == 2].index\n",
        "# #刪除沒重複資料\n",
        "# unique_index = ~df['drgcodetw'].duplicated()\n",
        "# df = df.drop(df[unique_index].index)\n",
        "# #留重複4次以上的資料\n",
        "value_counts = df['drgcodetw'].value_counts()\n",
        "# df = df[df['drgcodetw'].isin(value_counts[value_counts > 30].index)]\n",
        "# Nan補0\n",
        "df['icdcode1_T']=df['icdcode1_T'].fillna(0)\n",
        "# 第A欄的空白要填入2.0、B欄的空白要填入2.0、C欄的空白要填入2.0\n",
        "df.fillna({'A':2.0,'B':2.0,'C':2.0})\n",
        "\n",
        "# 處理重複資料\n",
        "df.drop_duplicates()  #刪除重複值"
      ],
      "metadata": {
        "id": "H7nKel6mf1Ji"
      },
      "execution_count": null,
      "outputs": []
    },
    {
      "cell_type": "code",
      "source": [
        "import numpy as np\n",
        "#平均數\n",
        "means=df.mean()\n",
        "print(means)\n",
        "#中位數\n",
        "df.quantile()\n",
        "median=np.median(df)\n",
        "print(median)"
      ],
      "metadata": {
        "id": "XZBK0HXDhrj7"
      },
      "execution_count": null,
      "outputs": []
    },
    {
      "cell_type": "code",
      "source": [
        "from scipy import stats\n",
        "# print('stats.mode(x)----->',stats.mode(df).mode[0])\n",
        "print(stats.mode(df))\n",
        "\n",
        "\n",
        "#百分位數(Sample Mean)\n",
        "print('np.percentile(df, 25)----->',np.percentile(df, 25))\n",
        "print('np.percentile(df, 75)----->',np.percentile(df, 75))"
      ],
      "metadata": {
        "id": "PXN1zg9RjIpM"
      },
      "execution_count": null,
      "outputs": []
    },
    {
      "cell_type": "markdown",
      "source": [
        "pandas最重要\n",
        "\n",
        "過濾: 準備跟你資料表依樣多的True/False, DataFrame[依樣多True/False]\n",
        "轉換\n",
        "\n",
        "篩選掉離群值(依般來說會選 1/4以下 3/4以上 當作離群值) \n",
        "\n",
        "四分位\n",
        "Q1:25% Q2:50% Q3:75%"
      ],
      "metadata": {
        "id": "yoVROKv5EzjM"
      }
    },
    {
      "cell_type": "code",
      "source": [
        "start = df[\"time\"].min()\n",
        "q1 = df[\"time\"].quantile(0.25)\n",
        "q2 = df[\"time\"].quantile(0.5)\n",
        "q3 = df[\"time\"].quantile(0.75)\n",
        "end = df[\"time\"].max()\n",
        "# print(start, q1, q2, q3, end)\n",
        "# &: and |: or, 兩個條件要加()\n",
        "fil = (df[\"time\"] > q1) & (df[\"time\"] < q3)\n",
        "df[fil].to_csv(\"baha.csv\", encoding=\"utf-8\")\n",
        "df[fil]"
      ],
      "metadata": {
        "id": "6Hx5EIOQxEi5"
      },
      "execution_count": null,
      "outputs": []
    }
  ]
}