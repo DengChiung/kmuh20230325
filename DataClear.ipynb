{
  "nbformat": 4,
  "nbformat_minor": 0,
  "metadata": {
    "colab": {
      "provenance": [],
      "authorship_tag": "ABX9TyN95S6YdYh+PT9JA9XWoH4o",
      "include_colab_link": true
    },
    "kernelspec": {
      "name": "python3",
      "display_name": "Python 3"
    },
    "language_info": {
      "name": "python"
    }
  },
  "cells": [
    {
      "cell_type": "markdown",
      "metadata": {
        "id": "view-in-github",
        "colab_type": "text"
      },
      "source": [
        "<a href=\"https://colab.research.google.com/github/DengChiung/kmuh20230325/blob/main/DataClear.ipynb\" target=\"_parent\"><img src=\"https://colab.research.google.com/assets/colab-badge.svg\" alt=\"Open In Colab\"/></a>"
      ]
    },
    {
      "cell_type": "code",
      "execution_count": 1,
      "metadata": {
        "id": "d55SmV9NL0Qc"
      },
      "outputs": [],
      "source": [
        "import pandas as pd\n",
        "from sklearn.datasets import load_iris\n",
        "iris = load_iris()\n",
        "df = pd.DataFrame(iris[\"data\"], columns=iris[\"feature_names\"])\n",
        "df[\"ans\"] = iris[\"target\"]\n",
        "#df"
      ]
    },
    {
      "cell_type": "code",
      "source": [
        "train_df = pd.read_csv(\"./Data/train.csv\", encoding=\"utf-8\")\n",
        "test_df = pd.read_csv(\"./Data/test.csv\", encoding=\"utf-8\")\n",
        "train_df.info()"
      ],
      "metadata": {
        "id": "b4tZAb_LM6ZV",
        "colab": {
          "base_uri": "https://localhost:8080/"
        },
        "outputId": "01295c6c-6880-4b72-e7c1-dae1df759393"
      },
      "execution_count": 15,
      "outputs": [
        {
          "output_type": "stream",
          "name": "stdout",
          "text": [
            "<class 'pandas.core.frame.DataFrame'>\n",
            "RangeIndex: 891 entries, 0 to 890\n",
            "Data columns (total 12 columns):\n",
            " #   Column       Non-Null Count  Dtype  \n",
            "---  ------       --------------  -----  \n",
            " 0   PassengerId  891 non-null    int64  \n",
            " 1   Survived     891 non-null    int64  \n",
            " 2   Pclass       891 non-null    int64  \n",
            " 3   Name         891 non-null    object \n",
            " 4   Sex          891 non-null    object \n",
            " 5   Age          714 non-null    float64\n",
            " 6   SibSp        891 non-null    int64  \n",
            " 7   Parch        891 non-null    int64  \n",
            " 8   Ticket       891 non-null    object \n",
            " 9   Fare         891 non-null    float64\n",
            " 10  Cabin        204 non-null    object \n",
            " 11  Embarked     889 non-null    object \n",
            "dtypes: float64(2), int64(5), object(5)\n",
            "memory usage: 83.7+ KB\n"
          ]
        }
      ]
    },
    {
      "cell_type": "code",
      "source": [
        "# \"Embarked\"最常出現的類別\n",
        "most = train_df[\"Embarked\"].value_counts().idxmax()\n",
        "#train_df[\"Embarked\"] = traixn_df[\"Embarked\"].fillna(most)\n",
        "print(most)"
      ],
      "metadata": {
        "id": "g7GfxvKbU5ii",
        "outputId": "5fbac764-9aaf-428a-c683-cf92fbe0ee2e",
        "colab": {
          "base_uri": "https://localhost:8080/"
        }
      },
      "execution_count": 16,
      "outputs": [
        {
          "output_type": "stream",
          "name": "stdout",
          "text": [
            "S\n"
          ]
        }
      ]
    },
    {
      "cell_type": "code",
      "source": [
        "# 數值:取中位數 補值\n",
        "med = train_df.median().drop([\"Pclass\"])\n",
        "#train_df = train_df.fillna(med)\n",
        "#s = train_df.isna().sum()\n",
        "#s[s > 0].sort_values(ascending=False)"
      ],
      "metadata": {
        "id": "kkUK3CxgV2HM",
        "outputId": "e0f53d56-63c3-408b-9180-68ca766d21c3",
        "colab": {
          "base_uri": "https://localhost:8080/"
        }
      },
      "execution_count": 17,
      "outputs": [
        {
          "output_type": "stream",
          "name": "stderr",
          "text": [
            "<ipython-input-17-db4c2ce4b98a>:2: FutureWarning: Dropping of nuisance columns in DataFrame reductions (with 'numeric_only=None') is deprecated; in a future version this will raise TypeError.  Select only valid columns before calling the reduction.\n",
            "  med = train_df.median().drop([\"Pclass\"])\n"
          ]
        }
      ]
    }
  ]
}