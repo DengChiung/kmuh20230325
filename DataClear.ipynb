{
  "nbformat": 4,
  "nbformat_minor": 0,
  "metadata": {
    "colab": {
      "provenance": [],
      "authorship_tag": "ABX9TyM2drwTiL//OmrVSJzf3WY0",
      "include_colab_link": true
    },
    "kernelspec": {
      "name": "python3",
      "display_name": "Python 3"
    },
    "language_info": {
      "name": "python"
    }
  },
  "cells": [
    {
      "cell_type": "markdown",
      "metadata": {
        "id": "view-in-github",
        "colab_type": "text"
      },
      "source": [
        "<a href=\"https://colab.research.google.com/github/DengChiung/kmuh20230325/blob/main/DataClear.ipynb\" target=\"_parent\"><img src=\"https://colab.research.google.com/assets/colab-badge.svg\" alt=\"Open In Colab\"/></a>"
      ]
    },
    {
      "cell_type": "code",
      "execution_count": 1,
      "metadata": {
        "id": "d55SmV9NL0Qc"
      },
      "outputs": [],
      "source": [
        "import pandas as pd\n",
        "from sklearn.datasets import load_iris\n",
        "iris = load_iris()\n",
        "df = pd.DataFrame(iris[\"data\"], columns=iris[\"feature_names\"])\n",
        "df[\"ans\"] = iris[\"target\"]\n",
        "#df"
      ]
    },
    {
      "cell_type": "code",
      "source": [
        "train_df = pd.read_csv(\"./Data/train.csv\", encoding=\"utf-8\")\n",
        "test_df = pd.read_csv(\"./Data/test.csv\", encoding=\"utf-8\")"
      ],
      "metadata": {
        "id": "b4tZAb_LM6ZV"
      },
      "execution_count": 4,
      "outputs": []
    }
  ]
}